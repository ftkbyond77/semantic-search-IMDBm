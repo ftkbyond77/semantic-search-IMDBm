{
 "cells": [
  {
   "cell_type": "code",
   "execution_count": 30,
   "id": "9db0d7ff",
   "metadata": {},
   "outputs": [],
   "source": [
    "from pyspark.sql import SparkSession\n",
    "from pyspark.sql.functions import monotonically_increasing_id, col\n",
    "from pyspark.ml.feature import StringIndexer\n",
    "from pyspark.ml.recommendation import ALS\n",
    "from pyspark.ml.evaluation import RegressionEvaluator"
   ]
  },
  {
   "cell_type": "code",
   "execution_count": 8,
   "id": "e733069e",
   "metadata": {},
   "outputs": [],
   "source": [
    "spark = SparkSession.builder \\\n",
    "    .appName('ALS Recommendation') \\\n",
    "    .getOrCreate()"
   ]
  },
  {
   "cell_type": "code",
   "execution_count": 31,
   "id": "f0fa71b5",
   "metadata": {},
   "outputs": [],
   "source": [
    "df = spark.read.csv(\"cleaned_imdb_data.csv\", header=True, inferSchema=True)"
   ]
  },
  {
   "cell_type": "code",
   "execution_count": 10,
   "id": "a673602b",
   "metadata": {},
   "outputs": [
    {
     "data": {
      "text/plain": [
       "DataFrame[Poster_Link: string, Series_Title: string, Released_Year: string, Certificate: string, Runtime: string, Genre: string, IMDB_Rating: double, Overview: string, Meta_score: string, Director: string, Star1: string, Star2: string, Star3: string, Star4: string, No_of_Votes: string, Gross: string]"
      ]
     },
     "execution_count": 10,
     "metadata": {},
     "output_type": "execute_result"
    }
   ],
   "source": [
    "df"
   ]
  },
  {
   "cell_type": "code",
   "execution_count": 34,
   "id": "adab925e",
   "metadata": {},
   "outputs": [
    {
     "name": "stdout",
     "output_type": "stream",
     "text": [
      "+-----------+--------------------+-------------+-----------+-------+--------------------+-----------+--------------------+----------+--------------------+------------------+--------------------+------------------+--------------------+-----------+-----------+\n",
      "|Poster_Link|        Series_Title|Released_Year|Certificate|Runtime|               Genre|IMDB_Rating|            Overview|Meta_score|            Director|             Star1|               Star2|             Star3|               Star4|No_of_Votes|      Gross|\n",
      "+-----------+--------------------+-------------+-----------+-------+--------------------+-----------+--------------------+----------+--------------------+------------------+--------------------+------------------+--------------------+-----------+-----------+\n",
      "|       NULL|The Shawshank Red...|         1994|          A|142 min|               Drama|        9.3|Two imprisoned me...|      80.0|      Frank Darabont|       Tim Robbins|      Morgan Freeman|        Bob Gunton|      William Sadler|    2343110| 28341469.0|\n",
      "|       NULL|       The Godfather|         1972|          A|175 min|        Crime, Drama|        9.2|An organized crim...|     100.0|Francis Ford Coppola|     Marlon Brando|           Al Pacino|        James Caan|        Diane Keaton|    1620367|134966411.0|\n",
      "|       NULL|     The Dark Knight|         2008|         UA|152 min|Action, Crime, Drama|        9.0|When the menace k...|      84.0|   Christopher Nolan|    Christian Bale|        Heath Ledger|     Aaron Eckhart|       Michael Caine|    2303232|534858444.0|\n",
      "|       NULL|The Godfather: Pa...|         1974|          A|202 min|        Crime, Drama|        9.0|The early life an...|      90.0|Francis Ford Coppola|         Al Pacino|      Robert De Niro|     Robert Duvall|        Diane Keaton|    1129952| 57300000.0|\n",
      "|       NULL|        12 Angry Men|         1957|          U| 96 min|        Crime, Drama|        9.0|A jury holdout at...|      96.0|        Sidney Lumet|       Henry Fonda|         Lee J. Cobb|     Martin Balsam|        John Fiedler|     689845|  4360000.0|\n",
      "|       NULL|The Lord of the R...|         2003|          U|201 min|Action, Adventure...|        8.9|Gandalf and Arago...|      94.0|       Peter Jackson|       Elijah Wood|     Viggo Mortensen|      Ian McKellen|       Orlando Bloom|    1642758|377845905.0|\n",
      "|       NULL|        Pulp Fiction|         1994|          A|154 min|        Crime, Drama|        8.9|The lives of two ...|      94.0|   Quentin Tarantino|     John Travolta|         Uma Thurman| Samuel L. Jackson|        Bruce Willis|    1826188|107928762.0|\n",
      "|       NULL|    Schindler's List|         1993|          A|195 min|Biography, Drama,...|        8.9|In German-occupie...|      94.0|    Steven Spielberg|       Liam Neeson|       Ralph Fiennes|      Ben Kingsley|    Caroline Goodall|    1213505| 96898818.0|\n",
      "|       NULL|           Inception|         2010|         UA|148 min|Action, Adventure...|        8.8|A thief who steal...|      74.0|   Christopher Nolan| Leonardo DiCaprio|Joseph Gordon-Levitt|       Elliot Page|        Ken Watanabe|    2067042|292576195.0|\n",
      "|       NULL|          Fight Club|         1999|          A|139 min|               Drama|        8.8|An insomniac offi...|      66.0|       David Fincher|         Brad Pitt|       Edward Norton|         Meat Loaf|        Zach Grenier|    1854740| 37030102.0|\n",
      "|       NULL|The Lord of the R...|         2001|          U|178 min|Action, Adventure...|        8.8|A meek Hobbit fro...|      92.0|       Peter Jackson|       Elijah Wood|        Ian McKellen|     Orlando Bloom|           Sean Bean|    1661481|315544750.0|\n",
      "|       NULL|        Forrest Gump|         1994|         UA|142 min|      Drama, Romance|        8.8|The presidencies ...|      82.0|     Robert Zemeckis|         Tom Hanks|        Robin Wright|       Gary Sinise|         Sally Field|    1809221|330252182.0|\n",
      "|       NULL|Il buono, il brut...|         1966|          A|161 min|             Western|        8.8|A bounty hunting ...|      90.0|        Sergio Leone|    Clint Eastwood|         Eli Wallach|     Lee Van Cleef|        Aldo Giuffrè|     688390|  6100000.0|\n",
      "|       NULL|The Lord of the R...|         2002|         UA|179 min|Action, Adventure...|        8.7|While Frodo and S...|      87.0|       Peter Jackson|       Elijah Wood|        Ian McKellen|   Viggo Mortensen|       Orlando Bloom|    1485555|342551365.0|\n",
      "|       NULL|          The Matrix|         1999|          A|136 min|      Action, Sci-Fi|        8.7|When a beautiful ...|      73.0|      Lana Wachowski|   Lilly Wachowski|        Keanu Reeves|Laurence Fishburne|    Carrie-Anne Moss|    1676426|171479930.0|\n",
      "|       NULL|          Goodfellas|         1990|          A|146 min|Biography, Crime,...|        8.7|The story of Henr...|      90.0|     Martin Scorsese|    Robert De Niro|          Ray Liotta|         Joe Pesci|     Lorraine Bracco|    1020727| 46836394.0|\n",
      "|       NULL|Star Wars: Episod...|         1980|         UA|124 min|Action, Adventure...|        8.7|After the Rebels ...|      82.0|      Irvin Kershner|       Mark Hamill|       Harrison Ford|     Carrie Fisher|  Billy Dee Williams|    1159315|290475067.0|\n",
      "|       NULL|One Flew Over the...|         1975|          A|133 min|               Drama|        8.7|A criminal pleads...|      83.0|        Milos Forman|    Jack Nicholson|     Louise Fletcher|  Michael Berryman|        Peter Brocco|     918088|112000000.0|\n",
      "|       NULL|            Hamilton|         2020|      PG-13|160 min|Biography, Drama,...|        8.6|The real life of ...|      90.0|         Thomas Kail|Lin-Manuel Miranda|        Phillipa Soo|   Leslie Odom Jr.|Renée Elise Golds...|      55291|       NULL|\n",
      "|       NULL|        Gisaengchung|         2019|          A|132 min|Comedy, Drama, Th...|        8.6|Greed and class d...|      96.0|        Bong Joon Ho|      Kang-ho Song|        Lee Sun-kyun|     Cho Yeo-jeong|        Choi Woo-sik|     552778| 53367844.0|\n",
      "+-----------+--------------------+-------------+-----------+-------+--------------------+-----------+--------------------+----------+--------------------+------------------+--------------------+------------------+--------------------+-----------+-----------+\n",
      "only showing top 20 rows\n"
     ]
    },
    {
     "data": {
      "text/plain": [
       "(None, 1000)"
      ]
     },
     "execution_count": 34,
     "metadata": {},
     "output_type": "execute_result"
    }
   ],
   "source": [
    "df.show(), df.count()"
   ]
  },
  {
   "cell_type": "code",
   "execution_count": 35,
   "id": "36d77f89",
   "metadata": {},
   "outputs": [],
   "source": [
    "df = df.withColumn(\"userId\", monotonically_increasing_id()) # fake id\n",
    "\n",
    "df = df.withColumnRenamed(\"Series_Title\", \"movie\") \\\n",
    "    .withColumnRenamed(\"IMDB_Rating\", \"rating\") \\\n",
    "        .select(\"userId\", \"movie\", \"rating\")"
   ]
  },
  {
   "cell_type": "code",
   "execution_count": 37,
   "id": "b799aad9",
   "metadata": {},
   "outputs": [
    {
     "name": "stdout",
     "output_type": "stream",
     "text": [
      "+------+--------------------+------+\n",
      "|userId|               movie|rating|\n",
      "+------+--------------------+------+\n",
      "|     0|The Shawshank Red...|   9.3|\n",
      "|     1|       The Godfather|   9.2|\n",
      "|     2|     The Dark Knight|   9.0|\n",
      "|     3|The Godfather: Pa...|   9.0|\n",
      "|     4|        12 Angry Men|   9.0|\n",
      "|     5|The Lord of the R...|   8.9|\n",
      "|     6|        Pulp Fiction|   8.9|\n",
      "|     7|    Schindler's List|   8.9|\n",
      "|     8|           Inception|   8.8|\n",
      "|     9|          Fight Club|   8.8|\n",
      "|    10|The Lord of the R...|   8.8|\n",
      "|    11|        Forrest Gump|   8.8|\n",
      "|    12|Il buono, il brut...|   8.8|\n",
      "|    13|The Lord of the R...|   8.7|\n",
      "|    14|          The Matrix|   8.7|\n",
      "|    15|          Goodfellas|   8.7|\n",
      "|    16|Star Wars: Episod...|   8.7|\n",
      "|    17|One Flew Over the...|   8.7|\n",
      "|    18|            Hamilton|   8.6|\n",
      "|    19|        Gisaengchung|   8.6|\n",
      "+------+--------------------+------+\n",
      "only showing top 20 rows\n"
     ]
    },
    {
     "data": {
      "text/plain": [
       "(None, 1000)"
      ]
     },
     "execution_count": 37,
     "metadata": {},
     "output_type": "execute_result"
    }
   ],
   "source": [
    "df.show(), df.count()"
   ]
  },
  {
   "cell_type": "code",
   "execution_count": 38,
   "id": "7c4b5a05",
   "metadata": {},
   "outputs": [],
   "source": [
    "indexer = StringIndexer(inputCol=\"movie\", outputCol=\"movieId\")\n",
    "df = indexer.fit(df).transform(df)\n",
    "df = df.select(\"userId\", \"movieId\", \"rating\")"
   ]
  },
  {
   "cell_type": "code",
   "execution_count": 40,
   "id": "58ff7822",
   "metadata": {},
   "outputs": [],
   "source": [
    "(train_data, test_data) = df.randomSplit([0.8, 0.2])"
   ]
  },
  {
   "cell_type": "code",
   "execution_count": 42,
   "id": "b5676ac7",
   "metadata": {},
   "outputs": [
    {
     "data": {
      "text/plain": [
       "(787, 213)"
      ]
     },
     "execution_count": 42,
     "metadata": {},
     "output_type": "execute_result"
    }
   ],
   "source": [
    "train_data.count(), test_data.count()"
   ]
  },
  {
   "cell_type": "code",
   "execution_count": 55,
   "id": "4d016753",
   "metadata": {},
   "outputs": [],
   "source": [
    "als = ALS(maxIter=3, rank=10, regParam=0.15, userCol=\"userId\", itemCol=\"movieId\", ratingCol=\"rating\", coldStartStrategy=\"drop\", seed=0)"
   ]
  },
  {
   "cell_type": "code",
   "execution_count": 56,
   "id": "0cca1a55",
   "metadata": {},
   "outputs": [],
   "source": [
    "model = als.fit(train_data)"
   ]
  },
  {
   "cell_type": "code",
   "execution_count": 57,
   "id": "f909375c",
   "metadata": {},
   "outputs": [],
   "source": [
    "predictions = model.transform(test_data)"
   ]
  },
  {
   "cell_type": "code",
   "execution_count": 59,
   "id": "6c3824a5",
   "metadata": {},
   "outputs": [
    {
     "name": "stdout",
     "output_type": "stream",
     "text": [
      "user not in train: 213\n",
      "movie not in train: 212\n"
     ]
    }
   ],
   "source": [
    "train_users = train_data.select(\"userId\").distinct()\n",
    "train_movies = train_data.select(\"movieId\").distinct()\n",
    "\n",
    "test_user_not_in_train = test_data.join(train_users, on=\"userId\", how=\"left_anti\")\n",
    "test_movie_not_in_train = test_data.join(train_movies, on=\"movieId\", how=\"left_anti\")\n",
    "\n",
    "print(\"user not in train:\", test_user_not_in_train.count())\n",
    "print(\"movie not in train:\", test_movie_not_in_train.count())"
   ]
  },
  {
   "cell_type": "code",
   "execution_count": 60,
   "id": "9531983a",
   "metadata": {},
   "outputs": [],
   "source": [
    "test_data_filtered = test_data \\\n",
    "    .join(train_users, on=\"userId\", how=\"inner\") \\\n",
    "    .join(train_movies, on=\"movieId\", how=\"inner\")"
   ]
  },
  {
   "cell_type": "code",
   "execution_count": 61,
   "id": "868d432f",
   "metadata": {},
   "outputs": [
    {
     "name": "stdout",
     "output_type": "stream",
     "text": [
      "+------+-------+------+----------+\n",
      "|userId|movieId|rating|prediction|\n",
      "+------+-------+------+----------+\n",
      "+------+-------+------+----------+\n",
      "\n"
     ]
    }
   ],
   "source": [
    "predictions = model.transform(test_data_filtered)\n",
    "predictions.select(\"userId\", \"movieId\", \"rating\", \"prediction\").show(10)"
   ]
  },
  {
   "cell_type": "code",
   "execution_count": 62,
   "id": "2e0379b5",
   "metadata": {},
   "outputs": [],
   "source": [
    "# evaluator = RegressionEvaluator(\n",
    "#     metricName=\"rmse\",\n",
    "#     labelCol=\"rating\",\n",
    "#     predictionCol=\"prediction\"\n",
    "# )\n",
    "\n",
    "# rmse = evaluator.evaluate(predictions)\n",
    "# print(f\"RMSE = {rmse}\")"
   ]
  },
  {
   "cell_type": "code",
   "execution_count": null,
   "id": "7714df3c",
   "metadata": {},
   "outputs": [],
   "source": []
  }
 ],
 "metadata": {
  "kernelspec": {
   "display_name": "base",
   "language": "python",
   "name": "python3"
  },
  "language_info": {
   "codemirror_mode": {
    "name": "ipython",
    "version": 3
   },
   "file_extension": ".py",
   "mimetype": "text/x-python",
   "name": "python",
   "nbconvert_exporter": "python",
   "pygments_lexer": "ipython3",
   "version": "3.11.4"
  }
 },
 "nbformat": 4,
 "nbformat_minor": 5
}
